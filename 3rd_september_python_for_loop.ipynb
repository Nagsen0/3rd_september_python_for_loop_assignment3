{
 "cells": [
  {
   "cell_type": "markdown",
   "id": "2779f420-bb17-4add-90b7-8842dfc2f8b2",
   "metadata": {},
   "source": [
    "# For loop"
   ]
  },
  {
   "cell_type": "markdown",
   "id": "a08fd7e0-f7ab-4801-bd2f-327a6aaac65f",
   "metadata": {},
   "source": [
    "# Basic level"
   ]
  },
  {
   "cell_type": "markdown",
   "id": "8bdc4625-c6ed-491d-8f91-fdd7f70aec68",
   "metadata": {},
   "source": [
    "1. Write a python program to print the numbers from 1 to 10 using a 'for' loop."
   ]
  },
  {
   "cell_type": "code",
   "execution_count": 1,
   "id": "711ae47f-11eb-400f-bf05-2faa1e22a7d0",
   "metadata": {},
   "outputs": [
    {
     "name": "stdout",
     "output_type": "stream",
     "text": [
      "[1, 2, 3, 4, 5, 6, 7, 8, 9, 10]\n"
     ]
    }
   ],
   "source": [
    "def numbers(n):\n",
    "    numbers_list=[]\n",
    "    for i in range(1,n):\n",
    "        numbers_list.append(i)\n",
    "        \n",
    "    return numbers_list\n",
    "\n",
    "n=11\n",
    "\n",
    "result=numbers(n)\n",
    "print(result)    "
   ]
  },
  {
   "cell_type": "markdown",
   "id": "c5ca5118-339e-4c48-aaa7-d56fe98e30d9",
   "metadata": {},
   "source": [
    "2. Create a program that calculates the sum of all numbers in a list using a for loop."
   ]
  },
  {
   "cell_type": "code",
   "execution_count": 14,
   "id": "45e83d28-ccbc-41e2-ae2b-0e20ccea2e73",
   "metadata": {},
   "outputs": [
    {
     "name": "stdout",
     "output_type": "stream",
     "text": [
      "The sum of list elements: 55\n"
     ]
    }
   ],
   "source": [
    "def calculate_sum(l):\n",
    "    sum_list=0\n",
    "    for i in l:\n",
    "        sum_list+=i\n",
    "        \n",
    "    return (sum_list)\n",
    "\n",
    "l=[1,2,3,4,5,6,7,8,9,10]\n",
    "result=calculate_sum(l)\n",
    "print('The sum of list elements:',result)"
   ]
  },
  {
   "cell_type": "markdown",
   "id": "197310f9-c9ee-43b6-b461-8402b1aa3a70",
   "metadata": {},
   "source": [
    "3. Write a program to print the characters of a string in reverse order using a 'for' loop."
   ]
  },
  {
   "cell_type": "code",
   "execution_count": 24,
   "id": "16452f38-9e53-4ae2-9d21-3731cdbff6e4",
   "metadata": {},
   "outputs": [
    {
     "name": "stdout",
     "output_type": "stream",
     "text": [
      "Reversed string is: orp ecneics atad kcats lluf\n"
     ]
    }
   ],
   "source": [
    "# input string\n",
    "input_string='full stack data science pro'\n",
    "# Initialize an empty string to store the reversed characters\n",
    "reversed_string=''\n",
    "\n",
    "for character in reversed(input_string):\n",
    "    reversed_string+=character\n",
    "    \n",
    "print('Reversed string is:',reversed_string)"
   ]
  },
  {
   "cell_type": "markdown",
   "id": "46afbda5-abc8-48d6-84fb-deb5fdf4a1bc",
   "metadata": {},
   "source": [
    "4. Develop a program that finds the factorial of a given number using a 'for' loop."
   ]
  },
  {
   "cell_type": "code",
   "execution_count": 40,
   "id": "01c11734-67c2-4061-bcde-87cff0750582",
   "metadata": {},
   "outputs": [
    {
     "name": "stdout",
     "output_type": "stream",
     "text": [
      "The factorial of the given number: 120\n"
     ]
    }
   ],
   "source": [
    "def factorial_of_number(n):\n",
    "    for i in range(n+1):\n",
    "        if n==0:    # base condition\n",
    "            return 1\n",
    "        \n",
    "        elif n<0:\n",
    "            return 'factorial of negative number is not defined'\n",
    "        else:\n",
    "            return n*factorial_of_number(n-1)\n",
    "n=5\n",
    "result=factorial_of_number(n)\n",
    "print('The factorial of the given number:',result)"
   ]
  },
  {
   "cell_type": "markdown",
   "id": "df7880b7-0ed0-49f2-b760-1cfc9a640aaf",
   "metadata": {},
   "source": [
    "5. Create a program to print the multiplication table of a given number using a 'for' loop."
   ]
  },
  {
   "cell_type": "code",
   "execution_count": 46,
   "id": "c38e81e5-6303-4841-8fcb-9a7c694ffd87",
   "metadata": {},
   "outputs": [
    {
     "name": "stdin",
     "output_type": "stream",
     "text": [
      "enter a number: 5\n"
     ]
    },
    {
     "name": "stdout",
     "output_type": "stream",
     "text": [
      "5*1=5\n",
      "5*2=10\n",
      "5*3=15\n",
      "5*4=20\n",
      "5*5=25\n",
      "5*6=30\n",
      "5*7=35\n",
      "5*8=40\n",
      "5*9=45\n",
      "5*10=50\n"
     ]
    }
   ],
   "source": [
    "# Take input for multiplication table of number\n",
    "\n",
    "number=int(input('enter a number:'))\n",
    "\n",
    "for i in range(1,11):\n",
    "    product=number*i\n",
    "    print(f\"{number}*{i}={product}\")"
   ]
  },
  {
   "cell_type": "markdown",
   "id": "d70fbd5b-9615-412d-a0e0-611eb1cfebde",
   "metadata": {},
   "source": [
    "6. Write a program that counts the number of even and odd numbers in a list using a 'for' loop."
   ]
  },
  {
   "cell_type": "code",
   "execution_count": 62,
   "id": "e3ffd64d-5c99-4b7b-9848-6592fcc66389",
   "metadata": {},
   "outputs": [
    {
     "name": "stdout",
     "output_type": "stream",
     "text": [
      "The count of even numbers: 5\n",
      "The count of odd numbers: 7\n"
     ]
    }
   ],
   "source": [
    "def count_even_odd(l):\n",
    "    even_count=0\n",
    "    odd_count=0\n",
    "    for i in l:\n",
    "        if i%2==0:\n",
    "            even_count+=1\n",
    "        else:\n",
    "            odd_count+=1\n",
    "    return even_count, odd_count\n",
    "\n",
    "l=[1,2,3,4,5,6,7,8,9,0,11,13]\n",
    "even_count, odd_count=count_even_odd(l)\n",
    "print('The count of even numbers:',even_count)\n",
    "print('The count of odd numbers:', odd_count)"
   ]
  },
  {
   "cell_type": "markdown",
   "id": "a1ebfd8d-1f06-457a-a8d0-f8ad65c5a2b9",
   "metadata": {},
   "source": [
    "7. Develop a program that prints the squares of numbers from 1 to 5 using a 'for' loop."
   ]
  },
  {
   "cell_type": "code",
   "execution_count": 67,
   "id": "575510ef-01c2-4d60-bdf9-e632f0e98869",
   "metadata": {},
   "outputs": [
    {
     "name": "stdout",
     "output_type": "stream",
     "text": [
      "The square of 1 : 1\n",
      "The square of 2 : 4\n",
      "The square of 3 : 9\n",
      "The square of 4 : 16\n",
      "The square of 5 : 25\n"
     ]
    }
   ],
   "source": [
    "def square_of_num(n):\n",
    "    for i in range(1,n+1):\n",
    "        square=i**2\n",
    "        print(f\"The square of {i} : {square}\")\n",
    "\n",
    "n=5\n",
    "square_of_num(n)"
   ]
  },
  {
   "cell_type": "markdown",
   "id": "7907bebe-ea22-48d9-9214-49a6b842ed86",
   "metadata": {},
   "source": [
    "8. Create a program to find the length of a string without using a 'len()' function."
   ]
  },
  {
   "cell_type": "code",
   "execution_count": 68,
   "id": "db0edc55-d9e0-4108-ba1a-5440b9ccb75d",
   "metadata": {},
   "outputs": [
    {
     "name": "stdout",
     "output_type": "stream",
     "text": [
      "The length of the string is: 27\n"
     ]
    }
   ],
   "source": [
    "def find_length(string):\n",
    "    length=0\n",
    "    for char in string:\n",
    "        length+=1\n",
    "        \n",
    "    return length\n",
    "string='full stack data science pro'\n",
    "result=find_length(string)\n",
    "print('The length of the string is:',result)"
   ]
  },
  {
   "cell_type": "markdown",
   "id": "8fed1561-cf10-4ec2-a7c7-80b40b7b0840",
   "metadata": {},
   "source": [
    "9. Write a program that calculates the averate of a list of numbers using a 'for' loop."
   ]
  },
  {
   "cell_type": "code",
   "execution_count": 2,
   "id": "78a86939-c892-43dc-92dd-92ec507bdef8",
   "metadata": {},
   "outputs": [
    {
     "name": "stdout",
     "output_type": "stream",
     "text": [
      "The average of the numbers in list is: 5.5\n"
     ]
    }
   ],
   "source": [
    "def average_num(l):\n",
    "    sum_num=0\n",
    "    count_num=0\n",
    "    for num in l:\n",
    "        count_num+=1\n",
    "        sum_num+=num\n",
    "        average=sum_num/count_num\n",
    "    return average\n",
    "        \n",
    "l=[1,2,3,4,5,6,7,8,9,10]\n",
    "average=average_num(l)\n",
    "print('The average of the numbers in list is:',average)"
   ]
  },
  {
   "cell_type": "markdown",
   "id": "d67a3123-e149-40ba-a738-033ad280d9ed",
   "metadata": {},
   "source": [
    "10. Develop a program that prints the first 'n' Fibonacci numbers using a 'for' loop."
   ]
  },
  {
   "cell_type": "code",
   "execution_count": 9,
   "id": "0aeeeda9-782d-4a22-8b37-1dda96a331f4",
   "metadata": {},
   "outputs": [
    {
     "name": "stdin",
     "output_type": "stream",
     "text": [
      "Enter a number of Fibonacci numbers to generate: 10\n"
     ]
    },
    {
     "name": "stdout",
     "output_type": "stream",
     "text": [
      "The first 10 Fibonacci numbers are:\n",
      "[0, 1, 1, 2, 3, 5, 8, 13, 21, 34]\n"
     ]
    }
   ],
   "source": [
    "def fibonacci(n):\n",
    "    fib_sequence=[0,1]\n",
    "    \n",
    "    # check if n is less than or equal to zero\n",
    "    if n<=0:\n",
    "        return []\n",
    "    \n",
    "    # check if n is equal to 1 , then return first fibonacci only\n",
    "    \n",
    "    elif n==1:\n",
    "        return [0]\n",
    "    \n",
    "    # use for loop \n",
    "     \n",
    "    for i in range(2,n):\n",
    "        next_fib=fib_sequence[-1] + fib_sequence[-2]\n",
    "        fib_sequence.append(next_fib)\n",
    "        \n",
    "    return fib_sequence\n",
    "\n",
    "# Taking input\n",
    "n=int(input('Enter a number of Fibonacci numbers to generate:'))\n",
    "\n",
    "if n<=0:\n",
    "    print('Please enter a positive interger.')\n",
    "    \n",
    "else:\n",
    "    result=fibonacci(n)\n",
    "    print(\"The first\",n, \"Fibonacci numbers are:\")\n",
    "    print(result)"
   ]
  },
  {
   "cell_type": "markdown",
   "id": "45c20392-ba2c-426f-9c6c-03f8e95253c8",
   "metadata": {},
   "source": [
    "# Intermediate Level:"
   ]
  },
  {
   "cell_type": "markdown",
   "id": "a67255e9-5c9c-4d59-aa79-2747ab7e562d",
   "metadata": {},
   "source": [
    "11. Write a program to check if a given list contains any duplicates using a 'for' loop."
   ]
  },
  {
   "cell_type": "code",
   "execution_count": 6,
   "id": "779ac40c-099f-4be5-9aed-2bfed8b24d0e",
   "metadata": {},
   "outputs": [
    {
     "name": "stdin",
     "output_type": "stream",
     "text": [
      "enter a list of elements separated by spaces: 2 3 4 5 6 4\n"
     ]
    },
    {
     "name": "stdout",
     "output_type": "stream",
     "text": [
      "The list contains duplicates.\n"
     ]
    }
   ],
   "source": [
    "def has_duplicates(input_list):\n",
    "    seen=set() # Create an empty set to store unique elements\n",
    "    \n",
    "    for item in input_list:\n",
    "        if item in seen:\n",
    "            return True # Found a duplicate\n",
    "        \n",
    "        seen.add(item)\n",
    "    return False # No duplicates found\n",
    "\n",
    "# input a list of elements\n",
    "input_list=input('enter a list of elements separated by spaces:').split()\n",
    "\n",
    "# check if the list contains duplicates\n",
    "\n",
    "if has_duplicates(input_list):\n",
    "    print('The list contains duplicates.')\n",
    "else:\n",
    "    print('The list does not contain duplicates.')"
   ]
  },
  {
   "cell_type": "markdown",
   "id": "e90a0ba5-c768-411a-9940-8d1996d4ed01",
   "metadata": {},
   "source": [
    "12. Create a program that prints the prime numbers in a given range using a 'for' loop."
   ]
  },
  {
   "cell_type": "code",
   "execution_count": 8,
   "id": "f04b2686-93c2-4c9d-a049-aaaf1fc31003",
   "metadata": {},
   "outputs": [
    {
     "name": "stdin",
     "output_type": "stream",
     "text": [
      "Enter the start of the range: 1\n",
      "Enter the end of the range: 50\n"
     ]
    },
    {
     "name": "stdout",
     "output_type": "stream",
     "text": [
      "Prime numbers in the range 1 to 50 are:\n",
      "2\n",
      "3\n",
      "5\n",
      "7\n",
      "11\n",
      "13\n",
      "17\n",
      "19\n",
      "23\n",
      "29\n",
      "31\n",
      "37\n",
      "41\n",
      "43\n",
      "47\n"
     ]
    }
   ],
   "source": [
    "def is_prime(number):\n",
    "    if number<=1:\n",
    "        return False\n",
    "    if number<=3:\n",
    "        return True\n",
    "    if number % 2==0 or number % 3 ==0:\n",
    "        return False\n",
    "    \n",
    "    i=5\n",
    "    while i*i<=number:\n",
    "        if number%i==0 or number % (i+2) ==0:\n",
    "            return False\n",
    "        i+=6\n",
    "    return True\n",
    "\n",
    "# input the range\n",
    "start=int(input('Enter the start of the range:'))\n",
    "end=int(input('Enter the end of the range:'))\n",
    "\n",
    "if start > end:\n",
    "    print('Invalid range. The start should be less than or equal to the end.')\n",
    "else:\n",
    "    print('Prime numbers in the range', start,'to',end,'are:')\n",
    "    for number in range(start,end+1):\n",
    "        if is_prime(number):\n",
    "            print(number)"
   ]
  },
  {
   "cell_type": "markdown",
   "id": "e761c1f3-ef08-4a4f-82d9-e1657efbd1cd",
   "metadata": {},
   "source": [
    "13. Develop a program that counts the number of vowels in a string using a 'for' loop."
   ]
  },
  {
   "cell_type": "code",
   "execution_count": 9,
   "id": "e86a440a-d6c9-4cd6-b1d8-783e4885dacb",
   "metadata": {},
   "outputs": [
    {
     "name": "stdout",
     "output_type": "stream",
     "text": [
      "The number of vowels in the string are: 8\n"
     ]
    }
   ],
   "source": [
    "def count_vowels(string):\n",
    "    # convert string to lowercase to make it case insensitive\n",
    "    string.lower()\n",
    "    vowel=['a','e','i','o','u']\n",
    "    count_vowel=0\n",
    "    for char in string:\n",
    "        if char in vowel:\n",
    "            count_vowel+=1\n",
    "    return count_vowel\n",
    "\n",
    "string='full stack data science pro'\n",
    "count_vowel=count_vowels(string)\n",
    "print('The number of vowels in the string are:',count_vowel)"
   ]
  },
  {
   "cell_type": "markdown",
   "id": "e4904520-a72b-4248-bddc-da8e56e2afb0",
   "metadata": {},
   "source": [
    "14. Write a program to find the maximum element in a 2D list using a nested 'for' loop."
   ]
  },
  {
   "cell_type": "code",
   "execution_count": 13,
   "id": "9b38d13c-6a92-4c6e-b4b9-fdca812b21d6",
   "metadata": {},
   "outputs": [
    {
     "name": "stdout",
     "output_type": "stream",
     "text": [
      "The maximum element in the 2D list is: 99\n"
     ]
    }
   ],
   "source": [
    "def find_max_element(matrix):\n",
    "    if not matrix:    # return None if the matrix is empty\n",
    "        return None \n",
    "    max_element=matrix[0][0]  # Initialize max element with the first element\n",
    "    \n",
    "    for row in matrix:\n",
    "        for element in row:\n",
    "            if element>max_element:\n",
    "                max_element=element\n",
    "    return max_element\n",
    "\n",
    "# 2D list\n",
    "matrix=[[4, 5, 7],\n",
    "        [7,9,2],\n",
    "        [11,5,99]]\n",
    "\n",
    "max_element=find_max_element(matrix)\n",
    "\n",
    "if max_element is not None:\n",
    "    print('The maximum element in the 2D list is:',max_element)\n",
    "    \n",
    "else:\n",
    "    print('The 2D list is empty.')\n",
    "        "
   ]
  },
  {
   "cell_type": "markdown",
   "id": "019a6676-99e5-4dae-a9bf-0caa67953c28",
   "metadata": {},
   "source": [
    "15. Create a program that removes all occurrences of a specific element from a list using a 'for' loop."
   ]
  },
  {
   "cell_type": "code",
   "execution_count": 34,
   "id": "270951df-974b-4a73-9965-c2bc3b70ed25",
   "metadata": {},
   "outputs": [
    {
     "name": "stdin",
     "output_type": "stream",
     "text": [
      "enter a list of elements separated by spaces: 1 2 3 4 5 6 nag sen data 5 3 8 3 9 3 3 \n",
      "enter a element to remove: 3\n"
     ]
    },
    {
     "name": "stdout",
     "output_type": "stream",
     "text": [
      "Original list with 3 removed:\n",
      "['1', '2', '4', '5', '6', 'nag', 'sen', 'data', '5', '8', '9']\n"
     ]
    }
   ],
   "source": [
    "def remove_specific_element(l,element):\n",
    "    updated_list=[]\n",
    "    for i in l:\n",
    "        if i!=element:\n",
    "            updated_list.append(i)\n",
    "    return updated_list\n",
    "\n",
    "\n",
    "l=input('enter a list of elements separated by spaces:').split()\n",
    "element=input('enter a element to remove:')\n",
    "\n",
    "result_list=remove_specific_element(l,element)\n",
    "\n",
    "if len(result_list)<len(l):\n",
    "    print('Original list with',element,'removed:')\n",
    "    print(result_list)\n",
    "    \n",
    "else:\n",
    "    print('The element',element, 'was not found in the list.')"
   ]
  },
  {
   "cell_type": "markdown",
   "id": "9f12317f-1faf-48d6-8808-f5187b9cbb65",
   "metadata": {},
   "source": [
    "16. Develop a program that generates a multiplication table for numbers from 1 to 5 using a nested 'for' loop."
   ]
  },
  {
   "cell_type": "code",
   "execution_count": 39,
   "id": "8bfaeb85-72c4-4d49-9554-4a5438d6cbbf",
   "metadata": {},
   "outputs": [
    {
     "name": "stdout",
     "output_type": "stream",
     "text": [
      "The multiplication table of 1:\n",
      "1 * 1 = 1\n",
      "1 * 2 = 2\n",
      "1 * 3 = 3\n",
      "1 * 4 = 4\n",
      "1 * 5 = 5\n",
      "1 * 6 = 6\n",
      "1 * 7 = 7\n",
      "1 * 8 = 8\n",
      "1 * 9 = 9\n",
      "1 * 10 = 10\n",
      "\n",
      "The multiplication table of 2:\n",
      "2 * 1 = 2\n",
      "2 * 2 = 4\n",
      "2 * 3 = 6\n",
      "2 * 4 = 8\n",
      "2 * 5 = 10\n",
      "2 * 6 = 12\n",
      "2 * 7 = 14\n",
      "2 * 8 = 16\n",
      "2 * 9 = 18\n",
      "2 * 10 = 20\n",
      "\n",
      "The multiplication table of 3:\n",
      "3 * 1 = 3\n",
      "3 * 2 = 6\n",
      "3 * 3 = 9\n",
      "3 * 4 = 12\n",
      "3 * 5 = 15\n",
      "3 * 6 = 18\n",
      "3 * 7 = 21\n",
      "3 * 8 = 24\n",
      "3 * 9 = 27\n",
      "3 * 10 = 30\n",
      "\n",
      "The multiplication table of 4:\n",
      "4 * 1 = 4\n",
      "4 * 2 = 8\n",
      "4 * 3 = 12\n",
      "4 * 4 = 16\n",
      "4 * 5 = 20\n",
      "4 * 6 = 24\n",
      "4 * 7 = 28\n",
      "4 * 8 = 32\n",
      "4 * 9 = 36\n",
      "4 * 10 = 40\n",
      "\n",
      "The multiplication table of 5:\n",
      "5 * 1 = 5\n",
      "5 * 2 = 10\n",
      "5 * 3 = 15\n",
      "5 * 4 = 20\n",
      "5 * 5 = 25\n",
      "5 * 6 = 30\n",
      "5 * 7 = 35\n",
      "5 * 8 = 40\n",
      "5 * 9 = 45\n",
      "5 * 10 = 50\n",
      "\n"
     ]
    }
   ],
   "source": [
    "def create_mult_table(n):\n",
    "    for i in range(1,n+1):\n",
    "        print(f'The multiplication table of {i}:')\n",
    "        \n",
    "        for j in range(1,11):\n",
    "            result=i*j\n",
    "            print(f\"{i} * {j} = {result}\")\n",
    "            \n",
    "        print() # Add a blank line to separate tables\n",
    "n=5\n",
    "\n",
    "create_mult_table(n)"
   ]
  },
  {
   "cell_type": "markdown",
   "id": "ba9c3607-0bce-417e-975c-7a97d742935e",
   "metadata": {},
   "source": [
    "17. Write a program that converts a list of Fahrenheit temperatures to Celsius using a 'for' loop."
   ]
  },
  {
   "cell_type": "code",
   "execution_count": 47,
   "id": "90062d26-0ec0-4ae0-ba1e-779161ae77d7",
   "metadata": {},
   "outputs": [
    {
     "name": "stdin",
     "output_type": "stream",
     "text": [
      "Enter Fahrenheit temperatures separated by spaces:  33 44 77 88 90 100\n"
     ]
    },
    {
     "name": "stdout",
     "output_type": "stream",
     "text": [
      "Celsius Temperatures:\n",
      "0.56°C\n",
      "6.67°C\n",
      "25.00°C\n",
      "31.11°C\n",
      "32.22°C\n",
      "37.78°C\n"
     ]
    }
   ],
   "source": [
    "# Function to convert Fahrenheit to Celsius\n",
    "def fahrenheit_to_celsius(fahrenheit):\n",
    "    return (fahrenheit - 32) * 5/9\n",
    "\n",
    "# Input a list of Fahrenheit temperatures separated by spaces\n",
    "fahrenheit_temperatures = input(\"Enter Fahrenheit temperatures separated by spaces: \").split()\n",
    "\n",
    "# Initialize an empty list to store the converted Celsius temperatures\n",
    "celsius_temperatures = []\n",
    "\n",
    "# Convert each Fahrenheit temperature to Celsius using a for loop\n",
    "for fahrenheit in fahrenheit_temperatures:\n",
    "    try:\n",
    "        fahrenheit = float(fahrenheit)  # Convert input to float\n",
    "        celsius = fahrenheit_to_celsius(fahrenheit)\n",
    "        celsius_temperatures.append(celsius)\n",
    "    except ValueError:\n",
    "        print(f\"Skipping invalid input: '{fahrenheit}'\")\n",
    "\n",
    "# Print the converted Celsius temperatures\n",
    "if celsius_temperatures:\n",
    "    print(\"Celsius Temperatures:\")\n",
    "    for celsius in celsius_temperatures:\n",
    "        print(f\"{celsius:.2f}°C\")\n",
    "else:\n",
    "    print(\"No valid temperatures to convert.\")\n"
   ]
  },
  {
   "cell_type": "markdown",
   "id": "52b24ad5-0284-4d6a-bb81-d047135f172a",
   "metadata": {},
   "source": [
    "18. Create a program to print the common elements from two lists using a 'for' loop."
   ]
  },
  {
   "cell_type": "code",
   "execution_count": 57,
   "id": "3ceddd6c-7862-45b6-98bc-9e08bec5314f",
   "metadata": {},
   "outputs": [
    {
     "name": "stdout",
     "output_type": "stream",
     "text": [
      "The list of common elements between two lists is: [2, 90, 5, 7]\n"
     ]
    }
   ],
   "source": [
    "def find_common_elements(l1,l2):\n",
    "    common_element=[]\n",
    "    for i in l1:\n",
    "        if i in l2:\n",
    "            common_element.append(i)\n",
    "    # use type casting to remove duplicates\n",
    "    return list(set(common_element))\n",
    "\n",
    "l1=[1,4,5,7,2,5,8,9,90, 90]\n",
    "l2=[2,3,5,7,6,0,90]\n",
    "\n",
    "common_element=find_common_elements(l1,l2)\n",
    "print('The list of common elements between two lists is:',common_element)"
   ]
  },
  {
   "cell_type": "markdown",
   "id": "4d5d2cab-b047-473f-acdf-388806abe534",
   "metadata": {},
   "source": [
    "19. Develop a program that prints the pattern of right-angled triangles using a 'for' loop. Use '*' to draw the pattern."
   ]
  },
  {
   "cell_type": "code",
   "execution_count": 73,
   "id": "3d100fd2-7e9c-47a2-918f-891bf319208c",
   "metadata": {},
   "outputs": [
    {
     "name": "stdin",
     "output_type": "stream",
     "text": [
      "Enter the number of rows for the right-angled triangle: 10\n"
     ]
    },
    {
     "name": "stdout",
     "output_type": "stream",
     "text": [
      "* \n",
      "* * \n",
      "* * * \n",
      "* * * * \n",
      "* * * * * \n",
      "* * * * * * \n",
      "* * * * * * * \n",
      "* * * * * * * * \n",
      "* * * * * * * * * \n",
      "* * * * * * * * * * \n"
     ]
    }
   ],
   "source": [
    "# Input the number of rows for the triangle\n",
    "num_rows=int(input('Enter the number of rows for the right-angled triangle:'))\n",
    "\n",
    "# Use for loop to print the pattern\n",
    "\n",
    "for i in range(1,num_rows+1):\n",
    "    for j in range(1,i+1):\n",
    "        print('*',end=' ') # Print an asterisk and space without a newline\n",
    "    \n",
    "    print()# Move to the next line after each row"
   ]
  },
  {
   "cell_type": "markdown",
   "id": "464f1b57-3e5a-44b5-a470-add86d82afa9",
   "metadata": {},
   "source": [
    "20. Write a program to find the greatest common divisor (GCD) of two numbers using a 'for' loop."
   ]
  },
  {
   "cell_type": "code",
   "execution_count": 81,
   "id": "fc23d05f-00fb-454c-aa4c-d2c0264e2ad2",
   "metadata": {},
   "outputs": [
    {
     "name": "stdin",
     "output_type": "stream",
     "text": [
      "Enter the first number: 30\n",
      "Enter the second number: 20\n"
     ]
    },
    {
     "name": "stdout",
     "output_type": "stream",
     "text": [
      "The GCD of 30 and 20 is 10\n"
     ]
    }
   ],
   "source": [
    "# function to find the GCD of two numbers using the Euclidean algorithm\n",
    "def gcd(a,b):\n",
    "    while b:\n",
    "        a,b=b,a%b\n",
    "    return a\n",
    "\n",
    "# Input two numbers from the user\n",
    "num1=int(input('Enter the first number:'))\n",
    "num2=int(input('Enter the second number:'))\n",
    "\n",
    "# Find and print the GCD of the two numbers\n",
    "result=gcd(num1,num2)\n",
    "print(f\"The GCD of {num1} and {num2} is {result}\")"
   ]
  },
  {
   "cell_type": "markdown",
   "id": "0ec9cf96-3296-4d9d-894b-340de306dce6",
   "metadata": {},
   "source": [
    "# Advanced Level:"
   ]
  },
  {
   "cell_type": "markdown",
   "id": "ba1cb522-fcf8-4092-981c-6a645ccb9103",
   "metadata": {},
   "source": [
    "21. Create a program that calculates the sum of the digits of numbers in a list using a list comprehension."
   ]
  },
  {
   "cell_type": "code",
   "execution_count": 86,
   "id": "185a97f3-403c-4fd3-9d06-1878f0f96dc6",
   "metadata": {},
   "outputs": [
    {
     "name": "stdin",
     "output_type": "stream",
     "text": [
      "Enter a list of numbers separated by spaces:  2 33 44 55 6 8 100\n"
     ]
    },
    {
     "name": "stdout",
     "output_type": "stream",
     "text": [
      "Sum of digits for each number in the list:\n",
      "2: 2\n",
      "33: 6\n",
      "44: 8\n",
      "55: 10\n",
      "6: 6\n",
      "8: 8\n",
      "100: 1\n"
     ]
    }
   ],
   "source": [
    "def digit_sum(number):\n",
    "    return sum(int(digit) for digit in str(number))\n",
    "\n",
    "# Input a list of numbers\n",
    "num_list=input('Enter a list of numbers separated by spaces: ').split()\n",
    "\n",
    "# Use a list comprehension to calculate the sum of digits for each number in the list\n",
    "sums=[digit_sum(int(num))for num in num_list]\n",
    "\n",
    "# Print the results\n",
    "print(\"Sum of digits for each number in the list:\")\n",
    "\n",
    "for i in range(len(num_list)):\n",
    "    print(f\"{num_list[i]}: {sums[i]}\")"
   ]
  },
  {
   "cell_type": "markdown",
   "id": "e4217450-a978-4b20-884a-c08a0cd1f2b4",
   "metadata": {},
   "source": [
    "22. Write a program to find the prime factors of a given number using a 'for' loop and list comprehension."
   ]
  },
  {
   "cell_type": "code",
   "execution_count": 92,
   "id": "d32baebb-111f-4839-b585-f0f01b43f5b6",
   "metadata": {},
   "outputs": [
    {
     "name": "stdin",
     "output_type": "stream",
     "text": [
      "Enter a number to find its prime factors: 45\n"
     ]
    },
    {
     "name": "stdout",
     "output_type": "stream",
     "text": [
      "The prime factors of 45 are: 3, 3, 5\n"
     ]
    }
   ],
   "source": [
    "def prime_factors(n):\n",
    "    factors=[]\n",
    "    divisor=2\n",
    "    \n",
    "    while divisor<=n:\n",
    "        if n%divisor==0:\n",
    "            factors.append(divisor)\n",
    "            n//=divisor\n",
    "        else:\n",
    "            divisor +=1\n",
    "    return factors\n",
    "\n",
    "# Input a number from the user\n",
    "number=int(input('Enter a number to find its prime factors:'))\n",
    "\n",
    "#Calculate and print the prime factors using list comprehension\n",
    "\n",
    "factors= prime_factors(number)\n",
    "\n",
    "if len(factors)==0:\n",
    "    print(f\"{number} has no prime factors other than 1 and itself.\")\n",
    "else:\n",
    "    print(f\"The prime factors of {number} are: {', '.join(map(str,factors))}\")"
   ]
  },
  {
   "cell_type": "markdown",
   "id": "aacad848-55b2-4901-82c2-df8fefe20abd",
   "metadata": {},
   "source": [
    "23. Develop a program that extracts unique elements from a list and stores them in a new list using a list comprehension."
   ]
  },
  {
   "cell_type": "code",
   "execution_count": 2,
   "id": "5e939ebb-69e4-4647-967e-82fd8fef4071",
   "metadata": {},
   "outputs": [
    {
     "name": "stdin",
     "output_type": "stream",
     "text": [
      "Enter a list of elements separated by spaces: 3 4 5 1 77 55 4 3 1 44 77 44 \n"
     ]
    },
    {
     "name": "stdout",
     "output_type": "stream",
     "text": [
      "Unique elements in the list:\n",
      "['5', '55']\n"
     ]
    }
   ],
   "source": [
    "# Input a list of elements\n",
    "input_list=input(\"Enter a list of elements separated by spaces:\").split()\n",
    "\n",
    "# Use a list comprehension to extract unique elements\n",
    "\n",
    "unique_elements=[element for element in input_list if input_list.count(element)==1]\n",
    "\n",
    "# Print the unique elements\n",
    "print(\"Unique elements in the list:\")\n",
    "print(unique_elements)"
   ]
  },
  {
   "cell_type": "markdown",
   "id": "e94fe722-95db-4c8c-84c8-4c6635582575",
   "metadata": {},
   "source": [
    "24. Create a program that generates a list of all palindromic numbers up to a specific limit using a list comprehension."
   ]
  },
  {
   "cell_type": "code",
   "execution_count": 3,
   "id": "eb9e9422-428e-43c0-9224-3aeb87dc26db",
   "metadata": {},
   "outputs": [
    {
     "name": "stdin",
     "output_type": "stream",
     "text": [
      "Enter the upper limit: 50\n"
     ]
    },
    {
     "name": "stdout",
     "output_type": "stream",
     "text": [
      "palindromic numbers up to 50 are:\n",
      "[1, 2, 3, 4, 5, 6, 7, 8, 9, 11, 22, 33, 44]\n"
     ]
    }
   ],
   "source": [
    "# function to check if a number is a palindrome\n",
    "\n",
    "def is_palindrome(number):\n",
    "    return str(number)==str(number)[::-1]\n",
    "\n",
    "# Input the upper limit\n",
    "\n",
    "limit=int(input('Enter the upper limit:'))\n",
    "\n",
    "# Use a list comprehension to generate a list of palindromic numbers\n",
    "\n",
    "palindromic_numbers=[num for num in range(1,limit+1) if is_palindrome(num)]\n",
    "\n",
    "# Print the list of palindromic numbers\n",
    "\n",
    "print('palindromic numbers up to',limit,'are:')\n",
    "print(palindromic_numbers)"
   ]
  },
  {
   "cell_type": "markdown",
   "id": "e029503f-52f2-45f3-86ea-9cf9fd2ee10c",
   "metadata": {},
   "source": [
    "25. Write a program to flatten a nested list using list comprehension."
   ]
  },
  {
   "cell_type": "code",
   "execution_count": 18,
   "id": "3c31292e-9d50-4983-a195-fc553f6af642",
   "metadata": {},
   "outputs": [
    {
     "name": "stdout",
     "output_type": "stream",
     "text": [
      "Flattened list:\n",
      "[1, 2, 3, 4, 6, 7, 8, 2, 3]\n"
     ]
    }
   ],
   "source": [
    "def flatten_list(nested_list):\n",
    "    return [item for sublist in nested_list for item in sublist]\n",
    "\n",
    "\n",
    "# Input list\n",
    "nested_list=[[1,2,3,4],[6,7,8],[2,3]]\n",
    "\n",
    "flattened_list=flatten_list(nested_list)\n",
    "\n",
    "# print result\n",
    "\n",
    "print(\"Flattened list:\")\n",
    "print(flattened_list)"
   ]
  },
  {
   "cell_type": "markdown",
   "id": "6dc1ece8-4fd6-45d8-89c8-43bee23721c0",
   "metadata": {},
   "source": [
    "26. Develop a program that computes the sum of even and odd numbers in a list separately using list comprehension."
   ]
  },
  {
   "cell_type": "code",
   "execution_count": 23,
   "id": "66348db5-246e-4401-8c14-439242edcd77",
   "metadata": {},
   "outputs": [
    {
     "name": "stdout",
     "output_type": "stream",
     "text": [
      "Even numbers: [4, 6, 8, 44, 90, 2]\n",
      "Sum of even numbers: 154\n",
      "Odd numbers: [3, 1, 7, 9, 57, 1, 5, 7]\n",
      "Sum of odd numbers: 90\n"
     ]
    }
   ],
   "source": [
    "# Input list\n",
    "\n",
    "lst=[3,4,1,6,7,8,9,44,57,90,2,1,5,7]\n",
    "# Use list comprehension\n",
    "even_num=[num for num in lst if num%2==0]\n",
    "odd_num=[num for num in lst if num%2!=0]\n",
    "\n",
    "# calculate the sum of the even and odd numbers\n",
    "even_sum=sum(even_num)\n",
    "odd_sum=sum(odd_num)\n",
    "\n",
    "# print result\n",
    "\n",
    "print(\"Even numbers:\",even_num)\n",
    "print(\"Sum of even numbers:\",even_sum)\n",
    "\n",
    "print(\"Odd numbers:\", odd_num)\n",
    "print(\"Sum of odd numbers:\", odd_sum)"
   ]
  },
  {
   "cell_type": "markdown",
   "id": "238b2b5b-3aa3-47c3-85bd-f9ae808f8179",
   "metadata": {},
   "source": [
    "27. Create a program that generates a list of squares of odd numbers between 1 and 10 using list comprehension."
   ]
  },
  {
   "cell_type": "code",
   "execution_count": 3,
   "id": "a0410538-e74f-44b3-8ce8-bf7b4216a45c",
   "metadata": {},
   "outputs": [
    {
     "name": "stdout",
     "output_type": "stream",
     "text": [
      "The odd numbers squares are: [1, 9, 25, 49, 81]\n"
     ]
    }
   ],
   "source": [
    "def create_odd_square(n):\n",
    "    # Use list comprehension\n",
    "    square_list=[num**2 for num in range(1,n+1) if num%2!=0 ]\n",
    "    return square_list\n",
    "\n",
    "\n",
    "n=10\n",
    "square_list=create_odd_square(n)\n",
    "\n",
    "print(\"The odd numbers squares are:\",square_list)"
   ]
  },
  {
   "cell_type": "markdown",
   "id": "2a3fbe0b-7a73-4848-bb99-080d6f7dfd3d",
   "metadata": {},
   "source": [
    "28. Write a program that combines two lists into a dictionary using list comprehension."
   ]
  },
  {
   "cell_type": "code",
   "execution_count": 25,
   "id": "10471fa6-c625-4d73-8656-840c4b2a7110",
   "metadata": {},
   "outputs": [
    {
     "name": "stdout",
     "output_type": "stream",
     "text": [
      "{'a': 2, 'b': 4, 'c': 6, 'd': 8, 'e': 9}\n"
     ]
    }
   ],
   "source": [
    "# Two lists to be combined into a dictionary\n",
    "\n",
    "keys=['a','b','c','d','e']\n",
    "\n",
    "values=[2,4,6,8,9,0,55,44]\n",
    "\n",
    "# Use list comprehension \n",
    "\n",
    "combine_dict={keys[i]:values[i] for i in range(min(len(keys), len(values)))}\n",
    "\n",
    "# print the dictionary\n",
    "\n",
    "print(combine_dict)"
   ]
  },
  {
   "cell_type": "markdown",
   "id": "08f67fbf-49d0-41bf-985d-22eec85a9068",
   "metadata": {},
   "source": [
    "29. Develop a program that extracts the vowels from a string and stores them in a list using list comprehension."
   ]
  },
  {
   "cell_type": "code",
   "execution_count": 6,
   "id": "772c23f7-e732-4cb1-8e90-441c2d738fba",
   "metadata": {},
   "outputs": [
    {
     "name": "stdout",
     "output_type": "stream",
     "text": [
      "The list of vowels is: ['u', 'a', 'a', 'a', 'i', 'e', 'e', 'o']\n"
     ]
    }
   ],
   "source": [
    "def extract_vowels(string):\n",
    "    vowels=['a','e','i','o','u']\n",
    "    \n",
    "    return [i for i in string.lower() if i in vowels]\n",
    "\n",
    "string='FULL STACK DATA SCIENCE PRO'\n",
    "\n",
    "result=extract_vowels(string)\n",
    "print('The list of vowels is:',result)"
   ]
  },
  {
   "cell_type": "markdown",
   "id": "f3dc2a87-e75b-4bfe-b291-779e6c054d34",
   "metadata": {},
   "source": [
    "30. Create a program that removes all non-numeric characters from a list of string using list comprehension."
   ]
  },
  {
   "cell_type": "code",
   "execution_count": 22,
   "id": "3d54b8c4-3f19-4521-b7fb-34569af68238",
   "metadata": {},
   "outputs": [
    {
     "name": "stdout",
     "output_type": "stream",
     "text": [
      "The list with numeric characters is: ['453', '897', '876']\n"
     ]
    }
   ],
   "source": [
    "def remove_non_numeric(lst):\n",
    "    # Use list comprehension\n",
    "    return [''.join(j for j in i if j.isnumeric()) for i in lst]\n",
    "\n",
    "lst=['nag 453', 'data897','pro876']\n",
    "result=remove_non_numeric(lst)\n",
    "print('The list with numeric characters is:',result)"
   ]
  },
  {
   "cell_type": "markdown",
   "id": "2a64efa0-4174-49be-b63d-1517aa89c587",
   "metadata": {},
   "source": [
    "# Challenge Level:"
   ]
  },
  {
   "cell_type": "markdown",
   "id": "952abde6-20ca-4f91-b745-f2ce05de8999",
   "metadata": {},
   "source": [
    "31. Write a program to generate a list of prime numbers using the Sieve of Eratosthenes algorithm and list comprehension."
   ]
  },
  {
   "cell_type": "code",
   "execution_count": 23,
   "id": "18e3b7e7-f037-4f63-b42e-65d8de90d9be",
   "metadata": {},
   "outputs": [
    {
     "name": "stdout",
     "output_type": "stream",
     "text": [
      "[2, 3, 5, 7, 11, 13, 17, 19, 23, 29, 31, 37, 41, 43, 47]\n"
     ]
    }
   ],
   "source": [
    "def sieve_of_eratosthenes(limit):\n",
    "    # Create a list of True values representing potential prime numbers\n",
    "    \n",
    "    primes=[True] * (limit+1)\n",
    "    \n",
    "    # 0 an 1 are not prime\n",
    "    primes[0]=primes[1]=False\n",
    "    \n",
    "    for i in range(2,int(limit**0.5)+1):\n",
    "        if primes[i]:\n",
    "            for j in range(i**2,limit+1,i):\n",
    "                primes[j]=False\n",
    "                \n",
    "    # Use list comprehension to extract prime numbers\n",
    "    \n",
    "    prime_numbers=[i for i, is_prime in enumerate(primes) if is_prime]\n",
    "    \n",
    "    return prime_numbers\n",
    "\n",
    "# Specify the limit up to which you want to find prime numbers\n",
    "limit=50\n",
    "\n",
    "# Generate a list of prime numbers up to the specific limit\n",
    "prime_numbers=sieve_of_eratosthenes(limit)\n",
    "\n",
    "# Print the list of prime numbers\n",
    "print(prime_numbers)\n",
    "                "
   ]
  },
  {
   "cell_type": "markdown",
   "id": "59ba59f8-38d3-43a2-bdf8-e201d5b97510",
   "metadata": {},
   "source": [
    "32. Create a program that generates a list of all Pythagorean triples up to a specified limit using list comprehension."
   ]
  },
  {
   "cell_type": "code",
   "execution_count": 36,
   "id": "e4151854-4d9a-4933-b57b-c87691520bd9",
   "metadata": {},
   "outputs": [
    {
     "name": "stdout",
     "output_type": "stream",
     "text": [
      "The list of pythagorean triplets are:\n",
      "[(3, 4, 5), (5, 12, 13), (6, 8, 10), (7, 24, 25), (8, 15, 17), (9, 12, 15), (9, 40, 41), (10, 24, 26), (12, 16, 20), (12, 35, 37), (14, 48, 50), (15, 20, 25), (15, 36, 39), (16, 30, 34), (18, 24, 30), (20, 21, 29), (21, 28, 35), (24, 32, 40), (27, 36, 45), (30, 40, 50)]\n"
     ]
    }
   ],
   "source": [
    "# Specify the limit up to which we want to find Pythagorian triplets\n",
    "\n",
    "limit=50\n",
    "\n",
    "# Use list comprehension\n",
    "# condition is a<b<c\n",
    "\n",
    "pythagorean_triplets=[(a,b,c) for a in range(1,limit+1) \n",
    "                      for b in range(a,limit+1) \n",
    "                      for c in range(b,limit+1) \n",
    "                      if a**2+b**2==c**2]\n",
    "\n",
    "print('The list of pythagorean triplets are:')\n",
    "print(pythagorean_triplets)"
   ]
  },
  {
   "cell_type": "markdown",
   "id": "421caacd-fee7-4b51-b298-b2844deb8062",
   "metadata": {},
   "source": [
    "33. Develop a program that generates a list of all possible combinations of two lists using list comprehension."
   ]
  },
  {
   "cell_type": "code",
   "execution_count": 42,
   "id": "f1f9b7e5-31d7-4926-89f3-36833d5cd15b",
   "metadata": {},
   "outputs": [
    {
     "name": "stdout",
     "output_type": "stream",
     "text": [
      "The all possible combinations of two lists are:\n",
      "[('a', 1), ('a', 3), ('a', 4), ('a', 5), ('a', 6), ('a', 7), ('b', 1), ('b', 3), ('b', 4), ('b', 5), ('b', 6), ('b', 7), ('c', 1), ('c', 3), ('c', 4), ('c', 5), ('c', 6), ('c', 7), ('d', 1), ('d', 3), ('d', 4), ('d', 5), ('d', 6), ('d', 7)]\n"
     ]
    }
   ],
   "source": [
    "# input lists\n",
    "list1=['a','b','c','d']\n",
    "list2=[1,3,4,5,6,7]\n",
    "\n",
    "# Use list comprehension to create combinations\n",
    "\n",
    "combinations=[(i,j) for i in list1 for j in list2]\n",
    "\n",
    "# Print result\n",
    "\n",
    "print('The all possible combinations of two lists are:')\n",
    "print(combinations)"
   ]
  },
  {
   "cell_type": "markdown",
   "id": "82c99244-a608-4042-add6-134aaf0c50b3",
   "metadata": {},
   "source": [
    "34. Write a program that calculates the mean, median, and mode of a list of numbers using list comprehension."
   ]
  },
  {
   "cell_type": "code",
   "execution_count": 54,
   "id": "190a70e2-bf51-4fc5-859b-ee3fd80aa43a",
   "metadata": {},
   "outputs": [
    {
     "name": "stdout",
     "output_type": "stream",
     "text": [
      "Mean value: 5.071428571428571\n",
      "Median value: 5.0\n",
      "Mode value: 6\n"
     ]
    }
   ],
   "source": [
    "# import mean median mode \n",
    "\n",
    "from statistics import mean, median, mode\n",
    "\n",
    "# numbers list\n",
    "lst=[1,2,6,5,7,3,4,5,8,9,5,4,6,6]\n",
    "\n",
    "# calculate mean median mode using list comprehension\n",
    "\n",
    "mean_value=mean(lst)\n",
    "median_value=median(lst)\n",
    "mode_value=mode(lst)\n",
    "\n",
    "# print results\n",
    "\n",
    "print('Mean value:',mean_value)\n",
    "print('Median value:',median_value)\n",
    "print('Mode value:', mode_value)"
   ]
  },
  {
   "cell_type": "markdown",
   "id": "1dd8c7b4-4115-4904-ac50-e0bfe2b2964a",
   "metadata": {},
   "source": [
    "35. Create a program that generates pascal's triangle up to a specified number of rows using list comprehension."
   ]
  },
  {
   "cell_type": "code",
   "execution_count": 3,
   "id": "23a41747-f2f4-4c42-8e8d-ea3865367648",
   "metadata": {},
   "outputs": [
    {
     "name": "stdout",
     "output_type": "stream",
     "text": [
      "          1          \n",
      "         1 1         \n",
      "        1 2 1        \n",
      "       1 3 3 1       \n",
      "      1 4 6 4 1      \n",
      "    1 5 10 10 5 1    \n",
      "   1 6 15 20 15 6 1  \n"
     ]
    }
   ],
   "source": [
    "def generate_pascals_triangle(num_rows):\n",
    "    if num_rows<=0:\n",
    "        return []\n",
    "    # Initialize pascals triangle with the first row\n",
    "    \n",
    "    triangle=[[1]]\n",
    "    \n",
    "    for _ in range(1,num_rows):\n",
    "        # Calculate the next row using list comprehension\n",
    "        \n",
    "        prev_row=triangle[-1]\n",
    "        new_row=[1] +[prev_row[i] +prev_row[i+1] for i in range(len(prev_row)-1)] +[1]\n",
    "        \n",
    "        triangle.append(new_row)\n",
    "        \n",
    "    return triangle\n",
    "\n",
    "def display_pascals_triangle(triangle):\n",
    "    for row in triangle:\n",
    "        print(\" \".join(map(str,row)).center(len(triangle[-1] *3)))\n",
    "              \n",
    "# Specify the number of rows you want in Pascal's triangle\n",
    "              \n",
    "num_rows=7\n",
    "\n",
    "# Generate Pascal's triangle\n",
    "pascals_triangle=generate_pascals_triangle(num_rows)\n",
    "              \n",
    "# Display Pascal's triangle\n",
    "display_pascals_triangle(pascals_triangle)"
   ]
  },
  {
   "cell_type": "markdown",
   "id": "bdb1cf40-e784-4238-ac3d-01fd0ea9b727",
   "metadata": {},
   "source": [
    "36. Develop a program that calculates the sum of the digits of a factorial of numbers from 1 to 5 using list comprehension."
   ]
  },
  {
   "cell_type": "code",
   "execution_count": 21,
   "id": "1ce5a35d-565e-4583-a698-a5da3f662d46",
   "metadata": {},
   "outputs": [
    {
     "name": "stdout",
     "output_type": "stream",
     "text": [
      "The factorial of 1 is 1 and the sum of its digits is 1\n",
      "The factorial of 2 is 2 and the sum of its digits is 2\n",
      "The factorial of 3 is 6 and the sum of its digits is 6\n",
      "The factorial of 4 is 24 and the sum of its digits is 6\n",
      "The factorial of 5 is 120 and the sum of its digits is 3\n"
     ]
    }
   ],
   "source": [
    "# Calculate the factorial\n",
    "def factorial(n):\n",
    "    if n==0:   # base condition for recursive call\n",
    "        return 1\n",
    "    else:\n",
    "        return n * factorial(n-1)\n",
    "    \n",
    "\n",
    "# find the sum of digits\n",
    "def sum_of_digits(n):\n",
    "    # Use list comprehension to calculate sum\n",
    "    return sum([int(digit)for digit in str(n)])\n",
    "\n",
    "# calculate and print sum of the digits of factorials from 1 to 5\n",
    "\n",
    "for i in range(1,6):\n",
    "    fact=factorial(i)\n",
    "    digit_sum=sum_of_digits(fact)\n",
    "    print(f\"The factorial of {i} is {fact} and the sum of its digits is {digit_sum}\")"
   ]
  },
  {
   "cell_type": "markdown",
   "id": "a2118d6c-cd4e-43a4-ab47-cd5b2f85418b",
   "metadata": {},
   "source": [
    "37. Write a program that finds the longest word in a sentence using list comprehension."
   ]
  },
  {
   "cell_type": "code",
   "execution_count": 56,
   "id": "76c16665-c0bd-4632-9cf2-d4b4bfdc41fa",
   "metadata": {},
   "outputs": [
    {
     "name": "stdout",
     "output_type": "stream",
     "text": [
      "The longest word is: science\n"
     ]
    }
   ],
   "source": [
    "def find_longest_word(sentence):\n",
    "    # Split the sentence into words\n",
    "    \n",
    "    words=sentence.split()\n",
    "    \n",
    "    # Use list comprehension to find the longest word\n",
    "    \n",
    "    longest_word=max(words, key=lambda word: len(word))\n",
    "    \n",
    "    return longest_word\n",
    "\n",
    "# input sentence\n",
    "sentence=\"full stack data science pro\"\n",
    "\n",
    "# Call the function to find the longest word\n",
    "\n",
    "result=find_longest_word(sentence)\n",
    "\n",
    "# Print the longest word \n",
    "print(\"The longest word is:\",result)"
   ]
  },
  {
   "cell_type": "markdown",
   "id": "0c17c7e8-f4c5-44c7-ab4b-c00948bde018",
   "metadata": {},
   "source": [
    "38. Create a program that filters a list of strings to include only those with more than three vowels using list comprehension."
   ]
  },
  {
   "cell_type": "code",
   "execution_count": 58,
   "id": "42a1db54-4fc3-444e-ad84-2b0b2c500ff1",
   "metadata": {},
   "outputs": [
    {
     "name": "stdout",
     "output_type": "stream",
     "text": [
      "Strings with more than three vowels: ['parabola']\n"
     ]
    }
   ],
   "source": [
    "# list of strings\n",
    "\n",
    "strings=['hello','world','sentence','parabola','hyperbola']\n",
    "\n",
    "# function to count vowels in a string\n",
    "\n",
    "def count_vowels(strings):\n",
    "    vowels=\"aeiouAEIOU\"\n",
    "    return sum(1 for char in strings if char in vowels)\n",
    "\n",
    "# Use list comprehension to filter string with more than three vowels\n",
    "\n",
    "filtered_strings=[string for string in strings if count_vowels(string)>3]\n",
    "\n",
    "# Print the filtered strings\n",
    "\n",
    "print(\"Strings with more than three vowels:\",filtered_strings)"
   ]
  },
  {
   "cell_type": "markdown",
   "id": "5f64e980-75a7-4552-b4aa-ca3aef67b6c6",
   "metadata": {},
   "source": [
    "39. Develop a program that calculates the sum of the digits of numbers from 1 to 1000 using list comprehension."
   ]
  },
  {
   "cell_type": "code",
   "execution_count": 71,
   "id": "f7d1bfe3-bdb2-450a-8303-90ab9b0ff59c",
   "metadata": {},
   "outputs": [
    {
     "name": "stdout",
     "output_type": "stream",
     "text": [
      "The sum of the digits of numbers from 1 to 1000 is: 13501\n"
     ]
    }
   ],
   "source": [
    "# list comprehension to generate numbers from 1 to 1000\n",
    "\n",
    "numbers=list(range(1,1001))\n",
    "\n",
    "# list comprehension to calculate the sum of digits for each number\n",
    "\n",
    "digit_sum=[sum(int(digit) for digit in str(num))for num in numbers]\n",
    "\n",
    "# calculate the total sum of digit sums using list comprehension\n",
    "\n",
    "total_sum=sum(digit_sum)\n",
    "\n",
    "# Print the total sum\n",
    "\n",
    "print(\"The sum of the digits of numbers from 1 to 1000 is:\",total_sum)"
   ]
  },
  {
   "cell_type": "markdown",
   "id": "ba8401c0-94dd-4303-8b57-9aedef641eed",
   "metadata": {},
   "source": [
    "40. Write a program that generates a list of prime palindromic numbers using list comprehension."
   ]
  },
  {
   "cell_type": "code",
   "execution_count": 83,
   "id": "81dd3a81-d80b-44ee-977d-5d0fe3f4760c",
   "metadata": {},
   "outputs": [
    {
     "name": "stdout",
     "output_type": "stream",
     "text": [
      "Prime palindromic numbers up to 1000: [2, 3, 5, 7, 11, 101, 131, 151, 181, 191, 313, 353, 373, 383]\n"
     ]
    }
   ],
   "source": [
    "def is_prime(num):\n",
    "    if num<2:\n",
    "        return False\n",
    "    for i in range(2,int(num**0.5)+1):\n",
    "        if num%i==0:\n",
    "            return False\n",
    "    return True\n",
    "\n",
    "\n",
    "# Generate a list of prime palindromic numbers using list comprehension\n",
    "\n",
    "prime_palindromic_numbers=[num for num in range(2,500) if is_prime(num) and str(num)==str(num)[::-1]]\n",
    "\n",
    "# print the list of prime palindromic numbers\n",
    "\n",
    "print(\"Prime palindromic numbers up to 1000:\",prime_palindromic_numbers)"
   ]
  },
  {
   "cell_type": "code",
   "execution_count": null,
   "id": "f61bb38c-d172-42d0-96b9-aae89f0e7072",
   "metadata": {},
   "outputs": [],
   "source": []
  }
 ],
 "metadata": {
  "kernelspec": {
   "display_name": "Python 3 (ipykernel)",
   "language": "python",
   "name": "python3"
  },
  "language_info": {
   "codemirror_mode": {
    "name": "ipython",
    "version": 3
   },
   "file_extension": ".py",
   "mimetype": "text/x-python",
   "name": "python",
   "nbconvert_exporter": "python",
   "pygments_lexer": "ipython3",
   "version": "3.10.8"
  }
 },
 "nbformat": 4,
 "nbformat_minor": 5
}
